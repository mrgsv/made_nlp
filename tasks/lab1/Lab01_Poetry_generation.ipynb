{
 "cells": [
  {
   "cell_type": "markdown",
   "metadata": {},
   "source": [
    "## Lab 01. Poetry generation\n",
    "\n",
    "Let's try to generate some poetry using RNNs. \n",
    "\n",
    "You have several choices here: \n",
    "\n",
    "* The Shakespeare sonnets, file `sonnets.txt` available in the notebook directory.\n",
    "\n",
    "* Роман в стихах \"Евгений Онегин\" Александра Сергеевича Пушкина. В предобработанном виде доступен по [ссылке](https://github.com/attatrol/data_sources/blob/master/onegin.txt).\n",
    "\n",
    "* Some other text source, if it will be approved by the course staff.\n",
    "\n",
    "Text generation can be designed in several steps:\n",
    "    \n",
    "1. Data loading.\n",
    "2. Dictionary generation.\n",
    "3. Data preprocessing.\n",
    "4. Model (neural network) training.\n",
    "5. Text generation (model evaluation).\n"
   ]
  },
  {
   "cell_type": "code",
   "execution_count": 1,
   "metadata": {},
   "outputs": [
    {
     "data": {
      "text/html": [
       "<style>.container { width:90% !important; }</style>"
      ],
      "text/plain": [
       "<IPython.core.display.HTML object>"
      ]
     },
     "metadata": {},
     "output_type": "display_data"
    }
   ],
   "source": [
    "from IPython.core.display import display, HTML\n",
    "display(HTML(\"<style>.container { width:90% !important; }</style>\"))\n",
    "from IPython.display import clear_output"
   ]
  },
  {
   "cell_type": "code",
   "execution_count": 2,
   "metadata": {},
   "outputs": [],
   "source": [
    "import string\n",
    "import os\n",
    "import re\n",
    "import json\n",
    "import random\n",
    "from random import sample\n",
    "\n",
    "from tqdm.notebook import tqdm_notebook as tqdm\n",
    "import numpy as np\n",
    "import matplotlib.pyplot as plt\n",
    "plt.style.use(\"dark_background\")"
   ]
  },
  {
   "cell_type": "markdown",
   "metadata": {},
   "source": [
    "### Data loading: Shakespeare"
   ]
  },
  {
   "cell_type": "markdown",
   "metadata": {},
   "source": [
    "Shakespeare sonnets are awailable at this [link](http://www.gutenberg.org/ebooks/1041?msg=welcome_stranger). In addition, they are stored in the same directory as this notebook (`sonnetes.txt`). Simple preprocessing is already done for you in the next cell: all technical info is dropped."
   ]
  },
  {
   "cell_type": "code",
   "execution_count": 3,
   "metadata": {},
   "outputs": [],
   "source": [
    "if not os.path.exists('sonnets.txt'):\n",
    "    !wget https://raw.githubusercontent.com/girafe-ai/ml-mipt/master/homeworks_basic/Lab2_DL/sonnets.txt\n",
    "\n",
    "with open('sonnets.txt', 'r') as iofile:\n",
    "    text = iofile.readlines()\n",
    "    \n",
    "TEXT_START = 45\n",
    "TEXT_END = -368\n",
    "text = text[TEXT_START : TEXT_END]\n",
    "assert len(text) == 2616"
   ]
  },
  {
   "cell_type": "markdown",
   "metadata": {},
   "source": [
    "In opposite to the in-class practice, this time we want to predict complex text. Let's reduce the complexity of the task and lowercase all the symbols.\n",
    "\n",
    "Now variable `text` is a list of strings. Join all the strings into one and lowercase it."
   ]
  },
  {
   "cell_type": "code",
   "execution_count": 4,
   "metadata": {},
   "outputs": [
    {
     "name": "stdout",
     "output_type": "stream",
     "text": [
      "OK!\n"
     ]
    }
   ],
   "source": [
    "# Join all the strings into one and lowercase it\n",
    "# Put result into variable text.\n",
    "\n",
    "# Your great code here\n",
    "text = \"\".join(list(map(lambda x: x.lower(), text)))\n",
    "\n",
    "assert len(text) == 100225, 'Are you sure you have concatenated all the strings?'\n",
    "assert not any([x in set(text) for x in string.ascii_uppercase]), 'Uppercase letters are present'\n",
    "print('OK!')"
   ]
  },
  {
   "cell_type": "markdown",
   "metadata": {},
   "source": [
    "### Data loading: \"Евгений Онегин\"\n"
   ]
  },
  {
   "cell_type": "code",
   "execution_count": 5,
   "metadata": {},
   "outputs": [],
   "source": [
    "if not os.path.exists('sonnets.txt'):\n",
    "    !wget https://raw.githubusercontent.com/attatrol/data_sources/master/onegin.txt\n",
    "    \n",
    "with open('onegin.txt', 'r') as iofile:\n",
    "    text = iofile.readlines()\n",
    "    \n",
    "text_p = [x.replace('\\t\\t', '') for x in text]"
   ]
  },
  {
   "cell_type": "markdown",
   "metadata": {},
   "source": [
    "In opposite to the in-class practice, this time we want to predict complex text. Let's reduce the complexity of the task and lowercase all the symbols.\n",
    "\n",
    "Now variable `text` is a list of strings. Join all the strings into one and lowercase it."
   ]
  },
  {
   "cell_type": "code",
   "execution_count": 6,
   "metadata": {},
   "outputs": [],
   "source": [
    "with open('./pushkin_by_verse.json', 'r') as iofile:\n",
    "    text_pushkin = json.load(iofile)"
   ]
  },
  {
   "cell_type": "markdown",
   "metadata": {},
   "source": [
    "### New School Artists"
   ]
  },
  {
   "cell_type": "code",
   "execution_count": 7,
   "metadata": {},
   "outputs": [],
   "source": [
    "with open('./full_songs_by_artist.json', 'r') as iofile:\n",
    "    text_songs = json.load(iofile)\n",
    "# text_songs = \"\".join(list(map(lambda x: x.lower(), text_songs)))"
   ]
  },
  {
   "cell_type": "code",
   "execution_count": 8,
   "metadata": {},
   "outputs": [],
   "source": [
    "text = []\n",
    "for val in text_songs.values():\n",
    "    for txt in val.values():\n",
    "        text.append(txt)"
   ]
  },
  {
   "cell_type": "code",
   "execution_count": 9,
   "metadata": {
    "scrolled": true
   },
   "outputs": [],
   "source": [
    "text = list(map(lambda x: re.split(r\"(\\n{3})\", x), text))"
   ]
  },
  {
   "cell_type": "code",
   "execution_count": 10,
   "metadata": {},
   "outputs": [],
   "source": [
    "rez_text = []\n",
    "for song in text:\n",
    "    rez_text.extend(list(filter(lambda x: x != \"\", song)))"
   ]
  },
  {
   "cell_type": "code",
   "execution_count": 11,
   "metadata": {},
   "outputs": [
    {
     "data": {
      "text/plain": [
       "1221"
      ]
     },
     "execution_count": 11,
     "metadata": {},
     "output_type": "execute_result"
    }
   ],
   "source": [
    "len(rez_text)"
   ]
  },
  {
   "cell_type": "markdown",
   "metadata": {},
   "source": [
    "text_songs - lyrics from Genius.com featuring these artists from New School: \n",
    "* Eldzhey\n",
    "* LSP\n",
    "* Morgenstern\n",
    "* Oxxxymiron\n",
    "* Slava KPSS\n",
    "* Yanix\n",
    "* Noize MC\n",
    "* GONE.Fludd\n",
    "* Big Baby Tape"
   ]
  },
  {
   "cell_type": "markdown",
   "metadata": {},
   "source": [
    "### So, full text contains Onegin + some russian rappers"
   ]
  },
  {
   "cell_type": "code",
   "execution_count": 156,
   "metadata": {},
   "outputs": [],
   "source": [
    "full_text = text_pushkin + rez_text"
   ]
  },
  {
   "cell_type": "markdown",
   "metadata": {},
   "source": [
    "Put all the characters, that you've seen in the text, into variable `tokens`."
   ]
  },
  {
   "cell_type": "code",
   "execution_count": 171,
   "metadata": {},
   "outputs": [],
   "source": [
    "text = list(map(lambda x: re.sub(r\"\\xa0\", \" \", re.sub(r\"\\u2005|\\u205f\", \"\", x.lower())), full_text))"
   ]
  },
  {
   "cell_type": "code",
   "execution_count": 172,
   "metadata": {},
   "outputs": [],
   "source": [
    "tokens = sorted(set(\"\".join(text)))"
   ]
  },
  {
   "cell_type": "code",
   "execution_count": 173,
   "metadata": {},
   "outputs": [],
   "source": [
    "num_tokens = len(tokens)"
   ]
  },
  {
   "cell_type": "code",
   "execution_count": 174,
   "metadata": {},
   "outputs": [
    {
     "data": {
      "text/plain": [
       "106"
      ]
     },
     "execution_count": 174,
     "metadata": {},
     "output_type": "execute_result"
    }
   ],
   "source": [
    "num_tokens"
   ]
  },
  {
   "cell_type": "markdown",
   "metadata": {},
   "source": [
    "Create dictionary `token_to_idx = {<char>: <index>}` and dictionary `idx_to_token = {<index>: <char>}`"
   ]
  },
  {
   "cell_type": "code",
   "execution_count": 175,
   "metadata": {},
   "outputs": [],
   "source": [
    "# dict <index>:<char>\n",
    "# Your great code here\n",
    "token_to_idx = {char: idx for idx, char in enumerate(tokens)}\n",
    "\n",
    "# dict <char>:<index>\n",
    "# Your great code here\n",
    "idx_to_token = {idx: char for char, idx in token_to_idx.items()}"
   ]
  },
  {
   "cell_type": "markdown",
   "metadata": {},
   "source": [
    "*Comment: in this task we have only 38 different tokens, so let's use one-hot encoding.*"
   ]
  },
  {
   "cell_type": "markdown",
   "metadata": {},
   "source": [
    "### Building the model"
   ]
  },
  {
   "cell_type": "markdown",
   "metadata": {},
   "source": [
    "Now we want to build and train recurrent neural net which would be able to something similar to Shakespeare's poetry.\n",
    "\n",
    "Let's use vanilla RNN, similar to the one created during the lesson."
   ]
  },
  {
   "cell_type": "code",
   "execution_count": 162,
   "metadata": {},
   "outputs": [],
   "source": [
    "import torch, torch.nn as nn\n",
    "import torch.nn.functional as F\n",
    "from torch.optim.lr_scheduler import StepLR, ReduceLROnPlateau"
   ]
  },
  {
   "cell_type": "code",
   "execution_count": 163,
   "metadata": {},
   "outputs": [],
   "source": [
    "SEED = 1234\n",
    "\n",
    "random.seed(SEED)\n",
    "torch.manual_seed(SEED)\n",
    "torch.backends.cudnn.deterministic = True"
   ]
  },
  {
   "cell_type": "code",
   "execution_count": 164,
   "metadata": {},
   "outputs": [],
   "source": [
    "device = torch.device('cuda' if torch.cuda.is_available() else 'cpu')"
   ]
  },
  {
   "cell_type": "code",
   "execution_count": 165,
   "metadata": {},
   "outputs": [],
   "source": [
    "class CharRNNCell(nn.Module):\n",
    "    \"\"\"\n",
    "    Implement the scheme above as torch module\n",
    "    \"\"\"\n",
    "    def __init__(self, num_tokens=len(tokens), embedding_size=16, rnn_num_units=64):\n",
    "        super(self.__class__,self).__init__()\n",
    "        self.num_units = rnn_num_units\n",
    "        \n",
    "        self.embedding = nn.Embedding(num_tokens, embedding_size)\n",
    "        self.rnn_update = nn.Linear(\n",
    "            embedding_size + rnn_num_units,\n",
    "            rnn_num_units\n",
    "        )\n",
    "        self.rnn_to_logits = nn.Linear(rnn_num_units, num_tokens)\n",
    "        \n",
    "    def forward(self, x, h_prev):\n",
    "        \"\"\"\n",
    "        This method computes h_next(x, h_prev) and log P(x_next | h_next)\n",
    "        We'll call it repeatedly to produce the whole sequence.\n",
    "        \n",
    "        :param x: batch of character ids, containing vector of int64\n",
    "        :param h_prev: previous rnn hidden states, containing matrix [batch, rnn_num_units] of float32\n",
    "        \"\"\"\n",
    "        x_emb = self.embedding(x)\n",
    "        x_and_h = torch.cat([x_emb, h_prev], dim=-1)\n",
    "        h_next = self.rnn_update(x_and_h)\n",
    "        \n",
    "        h_next = torch.tanh(h_next)\n",
    "        \n",
    "        assert h_next.size() == h_prev.size()\n",
    "        \n",
    "        logits = self.rnn_to_logits(h_next) \n",
    "        \n",
    "        return h_next, F.log_softmax(logits, -1)\n",
    "    \n",
    "    def initial_state(self, batch_size):\n",
    "        \"\"\" return rnn state before it processes first input (aka h0) \"\"\"\n",
    "        return torch.zeros(batch_size, self.num_units, requires_grad=True)"
   ]
  },
  {
   "cell_type": "code",
   "execution_count": 166,
   "metadata": {},
   "outputs": [],
   "source": [
    "KARPATHY_CONSTANT = 3e-4"
   ]
  },
  {
   "cell_type": "code",
   "execution_count": 167,
   "metadata": {},
   "outputs": [],
   "source": [
    "def to_matrix(words, batch_size, max_len=None, pad=token_to_idx[' '], dtype='int32', batch_first=True):\n",
    "    \"\"\"Casts a list of words into rnn-digestable matrix\"\"\"\n",
    "    \n",
    "    max_len = max_len or max(map(len, words))\n",
    "    words_ix = np.zeros([len(words), max_len], dtype) + pad\n",
    "\n",
    "    for i in range(len(words)):\n",
    "        line_ix = [token_to_idx[c] for c in words[i]]\n",
    "        words_ix[i, :len(line_ix)] = line_ix[:max_len]\n",
    "        \n",
    "    if not batch_first: # convert [batch, time] into [time, batch]\n",
    "        words_ix = np.transpose(words_ix)\n",
    "    if words_ix.shape[0] < batch_size:\n",
    "        words_ix = np.vstack((words_ix, np.ones((batch_size - words_ix.shape[0], max_len)) * pad))\n",
    "    return words_ix"
   ]
  },
  {
   "cell_type": "code",
   "execution_count": 32,
   "metadata": {},
   "outputs": [],
   "source": [
    "def rnn_loop(char_rnn, batch_ix):\n",
    "    \"\"\"\n",
    "    Computes log P(next_character) for all time-steps in words_ix\n",
    "    :param words_ix: an int32 matrix of shape [batch, time], output of to_matrix(words)\n",
    "    \"\"\"\n",
    "    batch_size, max_length = batch_ix.size()\n",
    "    hid_state = char_rnn.initial_state(batch_size)\n",
    "    logprobs = []\n",
    "\n",
    "    for x_t in batch_ix.transpose(0,1):\n",
    "        hid_state, logp_next = char_rnn(x_t, hid_state) \n",
    "        logprobs.append(logp_next)\n",
    "        \n",
    "    return torch.stack(logprobs, dim=1)"
   ]
  },
  {
   "cell_type": "code",
   "execution_count": 168,
   "metadata": {},
   "outputs": [],
   "source": [
    "MAX_LENGTH = 512"
   ]
  },
  {
   "cell_type": "code",
   "execution_count": 169,
   "metadata": {},
   "outputs": [],
   "source": [
    "def generate_sample(char_rnn, seed_phrase=' ', max_length=MAX_LENGTH, temperature=1.0):\n",
    "    '''\n",
    "    The function generates text given a phrase of length at least SEQ_LENGTH.\n",
    "    :param seed_phrase: prefix characters. The RNN is asked to continue the phrase\n",
    "    :param max_length: maximum output length, including seed_phrase\n",
    "    :param temperature: coefficient for sampling.  higher temperature produces more chaotic outputs,\n",
    "                        smaller temperature converges to the single most likely output\n",
    "    '''\n",
    "    \n",
    "    x_sequence = [token_to_idx[token] for token in seed_phrase]\n",
    "    x_sequence = torch.tensor([x_sequence], dtype=torch.int64)\n",
    "    hid_state = char_rnn.initial_state(batch_size=1)\n",
    "    \n",
    "    #feed the seed phrase, if any\n",
    "    for i in range(len(seed_phrase) - 1):\n",
    "        hid_state, _ = char_rnn(x_sequence[:, i], hid_state)\n",
    "    \n",
    "    #start generating\n",
    "    for _ in range(max_length - len(seed_phrase)):\n",
    "        hid_state, logp_next = char_rnn(x_sequence[:, -1], hid_state)\n",
    "        p_next = F.softmax(logp_next / temperature, dim=-1).data.numpy()[0]\n",
    "        \n",
    "        # sample next token and push it back into x_sequence\n",
    "        next_ix = np.random.choice(num_tokens,p=p_next)\n",
    "        next_ix = torch.tensor([[next_ix]], dtype=torch.int64)\n",
    "        x_sequence = torch.cat([x_sequence, next_ix], dim=1)\n",
    "        \n",
    "    return ''.join([tokens[ix] for ix in x_sequence.data.numpy()[0]])"
   ]
  },
  {
   "cell_type": "code",
   "execution_count": 28,
   "metadata": {},
   "outputs": [],
   "source": [
    "BATCH_SIZE = 32\n",
    "EPOCHS = 10000"
   ]
  },
  {
   "cell_type": "code",
   "execution_count": 424,
   "metadata": {},
   "outputs": [],
   "source": [
    "char_rnn = CharRNNCell(num_tokens=num_tokens, embedding_size=64, rnn_num_units=128)\n",
    "criterion = nn.NLLLoss()"
   ]
  },
  {
   "cell_type": "code",
   "execution_count": 562,
   "metadata": {},
   "outputs": [],
   "source": [
    "opt = torch.optim.Adam(char_rnn.parameters(), lr=3e-4)\n",
    "# scheduler = StepLR(opt, step_size=2500)"
   ]
  },
  {
   "cell_type": "code",
   "execution_count": 426,
   "metadata": {},
   "outputs": [
    {
     "data": {
      "text/plain": [
       "5000"
      ]
     },
     "execution_count": 426,
     "metadata": {},
     "output_type": "execute_result"
    }
   ],
   "source": [
    "(len(text) // BATCH_SIZE + 1) * EPOCHS"
   ]
  },
  {
   "cell_type": "code",
   "execution_count": 155,
   "metadata": {},
   "outputs": [],
   "source": [
    "from torch.utils.tensorboard import SummaryWriter\n",
    "writer = SummaryWriter()\n",
    "writer.add_graph(char_rnn, to_matrix(text[0: BATCH_SIZE], BATCH_SIZE, max_len=MAX_LENGTH))\n",
    "writer.close()"
   ]
  },
  {
   "cell_type": "code",
   "execution_count": 154,
   "metadata": {},
   "outputs": [],
   "source": [
    "%load_ext tensorboard\n",
    "%tensorboard --logdir runs"
   ]
  },
  {
   "cell_type": "code",
   "execution_count": 610,
   "metadata": {},
   "outputs": [],
   "source": [
    "history = []\n",
    "best_valid_loss = float('inf')\n",
    "for epoch in range(EPOCHS):\n",
    "    train_history = []\n",
    "    char_rnn.train()\n",
    "    for i in range(len(text) // BATCH_SIZE + 1):\n",
    "        batch_ix = to_matrix(text[i * BATCH_SIZE: i * BATCH_SIZE + BATCH_SIZE], BATCH_SIZE, max_len=MAX_LENGTH)\n",
    "        batch_ix = torch.tensor(batch_ix, dtype=torch.int64)\n",
    "\n",
    "        logp_seq = rnn_loop(char_rnn, batch_ix)\n",
    "\n",
    "        # compute loss\n",
    "        predictions_logp = logp_seq[:, :-1]\n",
    "        actual_next_tokens = batch_ix[:, 1:]\n",
    "        loss = criterion(predictions_logp.contiguous().view(-1, num_tokens), \n",
    "                      actual_next_tokens.contiguous().view(-1))\n",
    "\n",
    "        loss.backward()\n",
    "        opt.step()\n",
    "        opt.zero_grad()\n",
    "\n",
    "        train_history.append(loss.data.numpy())\n",
    "        if (i+1)%5==0:\n",
    "            clear_output(True)\n",
    "            plt.plot(train_history,label='loss')\n",
    "            plt.legend()\n",
    "            plt.show()\n",
    "    if np.mean(train_history) < best_valid_loss:\n",
    "        best_valid_loss = np.mean(train_history)\n",
    "        torch.save(char_rnn.state_dict(), './char_rnn_1.pt')\n",
    "        \n",
    "    history.append(train_history)\n",
    "    writer.add_scalar('mean train loss per epoch', np.mean(train_history), global_step=epoch)\n",
    "    char_rnn.eval()\n",
    "    writer.add_text('generation example',\n",
    "                    generate_sample(char_rnn=char_rnn, seed_phrase=\"мой дядя самых честных правил\", max_length=512, temperature=0.2), \n",
    "                    global_step=epoch)\n",
    "    writer.close()\n",
    "#     print(generate_sample(char_rnn=char_rnn, seed_phrase=\"мой дядя самых честных правил\", max_length=512, temperature=0.2))\n",
    "#     print(f\"epoch {epoch + 1} mean loss: {np.mean(history)}\")\n",
    "#     scheduler.step()\n",
    "#     assert np.mean(history[:10]) > np.mean(history[-10:]), \"RNN didn't converge.\""
   ]
  },
  {
   "cell_type": "markdown",
   "metadata": {},
   "source": [
    "### More poetic model\n",
    "\n",
    "Let's use LSTM instead of vanilla RNN and compare the results."
   ]
  },
  {
   "cell_type": "markdown",
   "metadata": {},
   "source": [
    "Plot the loss function of the number of epochs. Does the final loss become better?"
   ]
  },
  {
   "cell_type": "code",
   "execution_count": 251,
   "metadata": {},
   "outputs": [],
   "source": [
    "class CharRNNLoop(nn.Module):\n",
    "    def __init__(self, num_tokens=num_tokens, emb_size=16, rnn_num_units=64, dropout=0.2, num_layers=1):\n",
    "        super(self.__class__, self).__init__()\n",
    "        self.lstm_size = rnn_num_units\n",
    "        self.num_layers = num_layers\n",
    "        self.emb = nn.Embedding(num_tokens, emb_size)\n",
    "        self.rnn = nn.LSTM(emb_size, rnn_num_units, batch_first=True, num_layers=num_layers, dropout=dropout)\n",
    "        self.hid_to_logits = nn.Linear(rnn_num_units, num_tokens)\n",
    "        \n",
    "    def forward(self, x, h, c):\n",
    "        assert isinstance(x.data, torch.LongTensor)\n",
    "        h_seq, hn_cn = self.rnn(self.emb(x), (h, c))\n",
    "        next_logits = self.hid_to_logits(h_seq)\n",
    "        next_logp = F.log_softmax(next_logits, dim=-1)\n",
    "        return next_logp, hn_cn\n",
    "    \n",
    "    def initial_state(self, batch_size):\n",
    "        return (torch.zeros(self.num_layers, batch_size, self.lstm_size),\n",
    "                torch.zeros(self.num_layers, batch_size, self.lstm_size))"
   ]
  },
  {
   "cell_type": "code",
   "execution_count": 253,
   "metadata": {},
   "outputs": [],
   "source": [
    "BASE_LR = 1e-2\n",
    "BATCH_SIZE = 32\n",
    "EPOCHS = 10\n",
    "EMBEDDING_SIZE = 64\n",
    "HIDDEN_SIZE = 128\n",
    "DROPOUT = 0\n",
    "NUM_LAYERS = 1"
   ]
  },
  {
   "cell_type": "code",
   "execution_count": 255,
   "metadata": {},
   "outputs": [
    {
     "data": {
      "text/plain": [
       "CharRNNLoop(\n",
       "  (emb): Embedding(106, 64)\n",
       "  (rnn): LSTM(64, 128, batch_first=True)\n",
       "  (hid_to_logits): Linear(in_features=128, out_features=106, bias=True)\n",
       ")"
      ]
     },
     "execution_count": 255,
     "metadata": {},
     "output_type": "execute_result"
    }
   ],
   "source": [
    "char_lstm = CharRNNLoop(num_tokens=num_tokens, emb_size=EMBEDDING_SIZE, rnn_num_units=HIDDEN_SIZE, num_layers=NUM_LAYERS, dropout=DROPOUT)\n",
    "char_lstm.load_state_dict(torch.load(\"./char_lstm_1.pt\"))\n",
    "char_lstm.eval()"
   ]
  },
  {
   "cell_type": "code",
   "execution_count": 112,
   "metadata": {},
   "outputs": [],
   "source": [
    "# char_lstm = CharRNNLoop(num_tokens=num_tokens, emb_size=EMBEDDING_SIZE, rnn_num_units=HIDDEN_SIZE, num_layers=NUM_LAYERS, dropout=DROPOUT)\n",
    "opt = torch.optim.Adam(char_lstm.parameters(), lr=BASE_LR)\n",
    "criterion = nn.NLLLoss()"
   ]
  },
  {
   "cell_type": "code",
   "execution_count": 153,
   "metadata": {},
   "outputs": [],
   "source": [
    "lstm_writer = SummaryWriter()\n",
    "lstm_writer.add_graph(char_lstm, to_matrix(text[0: BATCH_SIZE], BATCH_SIZE, max_len=MAX_LENGTH))\n",
    "lstm_writer.close()"
   ]
  },
  {
   "cell_type": "code",
   "execution_count": 152,
   "metadata": {},
   "outputs": [],
   "source": [
    "%reload_ext tensorboard\n",
    "%tensorboard --logdir runs"
   ]
  },
  {
   "cell_type": "code",
   "execution_count": 115,
   "metadata": {},
   "outputs": [],
   "source": [
    "def generate_sample_lstm(char_lstm, seed_phrase=' ', max_length=MAX_LENGTH, temperature=1.0):\n",
    "    '''\n",
    "    The function generates text given a phrase of length at least SEQ_LENGTH.\n",
    "    :param seed_phrase: prefix characters. The RNN is asked to continue the phrase\n",
    "    :param max_length: maximum output length, including seed_phrase\n",
    "    :param temperature: coefficient for sampling.  higher temperature produces more chaotic outputs,\n",
    "                        smaller temperature converges to the single most likely output\n",
    "    '''\n",
    "    char_lstm.eval()\n",
    "    h_0, c_0 = char_lstm.initial_state(1)\n",
    "\n",
    "    x_sequence = [token_to_idx[token] for token in seed_phrase]\n",
    "    x_sequence = torch.tensor([x_sequence], dtype=torch.int64)\n",
    "\n",
    "    \n",
    "    #feed the seed phrase, if any\n",
    "    logp_next, hn_cn = char_lstm(x_sequence, h_0, c_0)\n",
    "    p_next = F.softmax(logp_next[0, -1, :] / temperature, dim=0).data.numpy()\n",
    "    next_ix = np.random.choice(num_tokens,p=p_next)\n",
    "    next_ix = torch.tensor([[next_ix]], dtype=torch.int64)\n",
    "    chars = [next_ix]\n",
    "    \n",
    "    #start generating\n",
    "    for _ in range(max_length - len(seed_phrase)):\n",
    "        logp_next, hn_cn = char_lstm(chars[-1], *hn_cn)\n",
    "        p_next = F.softmax(logp_next / temperature, dim=-1).data.numpy()[0][0]\n",
    "        \n",
    "        # sample next token and push it back into x_sequence\n",
    "        next_ix = np.random.choice(num_tokens,p=p_next)\n",
    "        next_ix = torch.tensor([[next_ix]], dtype=torch.int64)\n",
    "        chars.append(next_ix)\n",
    "        \n",
    "    return seed_phrase + ''.join([tokens[ix.data.numpy()[0][0]] for ix in chars])"
   ]
  },
  {
   "cell_type": "code",
   "execution_count": 116,
   "metadata": {},
   "outputs": [
    {
     "data": {
      "text/plain": [
       "5880"
      ]
     },
     "execution_count": 116,
     "metadata": {},
     "output_type": "execute_result"
    }
   ],
   "source": [
    "(len(text) // BATCH_SIZE + 1) * EPOCHS"
   ]
  },
  {
   "cell_type": "code",
   "execution_count": 117,
   "metadata": {},
   "outputs": [
    {
     "data": {
      "image/png": "[encoded data removed]",
      "text/plain": [
       "<Figure size 432x288 with 1 Axes>"
      ]
     },
     "metadata": {},
     "output_type": "display_data"
    }
   ],
   "source": [
    "history = []\n",
    "best_valid_loss = float('inf')\n",
    "for epoch in range(EPOCHS):\n",
    "    train_history = []\n",
    "    char_lstm.train()\n",
    "    for i in range(len(text) // BATCH_SIZE + 1):\n",
    "        batch_ix = to_matrix(text[i * BATCH_SIZE: i * BATCH_SIZE + BATCH_SIZE], BATCH_SIZE, max_len=MAX_LENGTH)\n",
    "        batch_ix = torch.tensor(batch_ix, dtype=torch.int64)\n",
    "\n",
    "        h_0, c_0 = char_lstm.initial_state(BATCH_SIZE)\n",
    "        logp_seq, hn_cn = char_lstm(batch_ix, h_0, c_0)\n",
    "\n",
    "        # compute loss\n",
    "        predictions_logp = logp_seq[:, :-1]\n",
    "        actual_next_tokens = batch_ix[:, 1:]\n",
    "        loss = criterion(predictions_logp.contiguous().view(-1, num_tokens), \n",
    "                      actual_next_tokens.contiguous().view(-1))\n",
    "\n",
    "        loss.backward()\n",
    "        opt.step()\n",
    "        opt.zero_grad()\n",
    "\n",
    "        train_history.append(loss.data.numpy())\n",
    "        if (i+1)%5==0:\n",
    "            clear_output(True)\n",
    "            plt.plot(train_history,label='loss')\n",
    "            plt.legend()\n",
    "            plt.show()\n",
    "    if np.mean(train_history) < best_valid_loss:\n",
    "        best_valid_loss = np.mean(train_history)\n",
    "        torch.save(char_lstm.state_dict(), f'./char_lstm_1_EMBD{EMBEDDING_SIZE}_BATCH{BATCH_SIZE}_HID{HIDDEN_SIZE}.pt')\n",
    "        \n",
    "    history.append(train_history)\n",
    "    lstm_writer.add_scalar('mean train loss per epoch', np.mean(train_history), global_step=epoch)\n",
    "    lstm_writer.add_text('generation example',\n",
    "                    generate_sample_lstm(char_lstm=char_lstm, seed_phrase=\"мой дядя самых честных правил\", max_length=512, temperature=0.2), \n",
    "                    global_step=epoch)\n",
    "    lstm_writer.close()"
   ]
  },
  {
   "cell_type": "markdown",
   "metadata": {},
   "source": [
    "Generate text using the trained net with different `temperature` parameter: `[0.1, 0.2, 0.5, 1.0, 2.0]`.\n",
    "\n",
    "Evaluate the results visually, try to interpret them."
   ]
  },
  {
   "cell_type": "code",
   "execution_count": 256,
   "metadata": {},
   "outputs": [
    {
     "data": {
      "text/plain": [
       "CharRNNCell(\n",
       "  (embedding): Embedding(106, 64)\n",
       "  (rnn_update): Linear(in_features=192, out_features=128, bias=True)\n",
       "  (rnn_to_logits): Linear(in_features=128, out_features=106, bias=True)\n",
       ")"
      ]
     },
     "execution_count": 256,
     "metadata": {},
     "output_type": "execute_result"
    }
   ],
   "source": [
    "best_char_rnn = CharRNNCell(num_tokens=num_tokens, embedding_size=64, rnn_num_units=128)\n",
    "best_char_rnn.load_state_dict(torch.load(\"./char_rnn_1.pt\"))\n",
    "best_char_rnn.eval()"
   ]
  },
  {
   "cell_type": "code",
   "execution_count": 275,
   "metadata": {},
   "outputs": [
    {
     "name": "stdout",
     "output_type": "stream",
     "text": [
      "RNN:\n",
      "temperature: 0.1\n",
      "мой дядя в темноте не страшно на мне под подошвы дальной странный делать за стать в темноте всё был с подожденной под подошвы дальной странный века не скажется в темноте всё был и странный как города (почему?) хе-путину мой как будто полно на мне под подошвы дальной странный красивый собой половать делать за стать в том под подошвы дальной странный как гром (эйби)\n",
      "так подруг на балковали на мне под подошвы дальной странный красивый сердце под мог не полете в темноте всё гости с похоток (грустные танцы)\n",
      "я не\n",
      "\n",
      "temperature: 0.2\n",
      "мой дядя в моей стал (ха-ха)\n",
      "я и думал в моей черепит на стреляю своей не дайти (сук, пока под подошвы далью душах под подоры, на под подошвой\n",
      "пора под подоры, старавил бы в как будто половек в руке себе не подождёным на себя в самом домит и все не породительный колет и думать\n",
      "и в семья места\n",
      "я не встафетской доми доми на собой, но ты подруг и мой бетлон (ага)\n",
      "так скупка на мне полно просто в самом колим он под подошвы дальной строй — мне не смерте в старины столом под подошвы дальной строй — мой просто теб\n",
      "\n",
      "temperature: 0.5\n",
      "мой дядя — тебя в мамановцу, и в алыбыл твою тёлку, я старая после домеци его не уж с похорок авте под подыми в от после настои блестит на ходет невозвала двор со мной благоразу с вижу в темноте всё красных грата, в сети (е!)\n",
      "как я поэт себе он своих дуре\n",
      "на подожденной дерьмо так полно ба баш — фрему на меня в темноте так гуди тостьенс милость (грр-ра)                                                                                                                                                             \n",
      "\n",
      "temperature: 1.0\n",
      "мой дядя — умала на свет; и только наш (ахру-м)\n",
      "halke treal)\n",
      "прежни сне черновся раздно брориком разули (ясин)\n",
      "яв внуwбкого себя ваш дришней\n",
      "и нас госкулся свой карят мне не триненность за сиять,\n",
      "и диса\n",
      "я пож но мы рэперас я хокам и дых:\n",
      "я сердать, снова светно\n",
      "уже сыплях,\n",
      "– что двинтом нбуде толкаться оботаться, когда выходо откобы гирде\n",
      "он, пеще ей где мне сукствянский себе умер и дом-ли с обжияли заказвазит, что влегпешь я то же так гняли \"loina shalumuba) и он отдавирги\n",
      "с тупы инталив третилно\n",
      "пацанамяе\n",
      "\n",
      "temperature: 2.0\n",
      "мой дядя хоуз-яйишьы\n",
      "но тустнуед…\n",
      "бабрю вдыщик минкимчта\n",
      "tu, shol'» -p, uw!) ха-тайпт.-ос з mealill\n",
      "по-рабы;\n",
      "ем?                      a al's-ykgct'и цигры! гивираю,\n",
      "элкачашков, шубрый\n",
      "здны\n",
      "жие.\n",
      "это… bea€         l’ice-waye (бню) у… гряетка, бывы впей? сдпое доллбпра!)                                                                                                                                                                                                     а, улинымо, наняещ ненелбию сирась, дж)\n",
      "мужный \n",
      "\n"
     ]
    }
   ],
   "source": [
    "print(\"RNN:\")\n",
    "for temp in [0.1, 0.2, 0.5, 1., 2.]:\n",
    "    print(f\"temperature: {temp}\")\n",
    "    print(generate_sample(char_rnn=best_char_rnn, seed_phrase=\"мой дядя \", max_length=512, temperature=temp) + \"\\n\")"
   ]
  },
  {
   "cell_type": "code",
   "execution_count": 277,
   "metadata": {},
   "outputs": [
    {
     "data": {
      "text/plain": [
       "CharRNNLoop(\n",
       "  (emb): Embedding(106, 64)\n",
       "  (rnn): LSTM(64, 128, batch_first=True)\n",
       "  (hid_to_logits): Linear(in_features=128, out_features=106, bias=True)\n",
       ")"
      ]
     },
     "execution_count": 277,
     "metadata": {},
     "output_type": "execute_result"
    }
   ],
   "source": [
    "best_char_lstm = CharRNNLoop(num_tokens=num_tokens, emb_size=EMBEDDING_SIZE, rnn_num_units=HIDDEN_SIZE, num_layers=NUM_LAYERS, dropout=DROPOUT)\n",
    "best_char_lstm.load_state_dict(torch.load(\"./char_lstm_1.pt\"))\n",
    "best_char_lstm.eval()"
   ]
  },
  {
   "cell_type": "code",
   "execution_count": 283,
   "metadata": {},
   "outputs": [
    {
     "name": "stdout",
     "output_type": "stream",
     "text": [
      "LSTM:\n",
      "temperature: 0.1\n",
      "мой дядя в моей музыкой красивой\n",
      "в сердце не в комнате, чем темнотах на мои был не старины\n",
      "в тишине, если с тобой должно не надо след\n",
      "когда грустно по небо не старин\n",
      "и полно под кругу под миним должно\n",
      "я вижу и только со мной — это мне не старин\n",
      "поле совсем не про нас нет, а я не выходим был обезорые кругом\n",
      "старина ты половей\n",
      "с тобой бедной реденный города и под каконе\n",
      "на груди, на запястье, на груди, на запястье\n",
      "тут страстей своей странной\n",
      "в темноте не старик ль в темноте, не видит подошвой\n",
      "под кровью под кр\n",
      "\n",
      "temperature: 0.2\n",
      "мой дядя в сети\n",
      "что ты будешь делать с этим? (сети-сети-сети-сети)                                                                                                                                                                                                                                                                                                                                                                                                                                                               \n",
      "\n",
      "temperature: 0.5\n",
      "мой дядя мне стал\n",
      "сам мелисочная души и в ней не надо держонах\n",
      "еще половен как будто далекого помнимают\n",
      "отворота, а даже в очерь нет, и моя нам\n",
      "все радость на компой богате\n",
      "пора потом большода своей.\n",
      "                                                                                                                                                                                                                                                                                                                         \n",
      "\n",
      "temperature: 1.0\n",
      "мой дядя о это фрэг-ты\n",
      "сколько оленький так — чик.\n",
      "красный накеде я блибли нет?\n",
      "она на баллись так каждётся поэта\n",
      "без волше зналька,\n",
      "глядь пежал и мне сбир,\n",
      "она даже чири во всё как ты, эй, это ли пидор,\n",
      "в он твои девую и яхниг.\n",
      "                                                                                                                                                                                                                                                                                            \n",
      "\n",
      "temperature: 2.0\n",
      "мой дядя дволи читариках\n",
      "няжог\n",
      "уверадайся матычие h-илокл – садей\n",
      "дииверчат мечтоя 40:\n",
      "текених школюктучию нас тас\n",
      "вальск и пять лыжут ми\n",
      "я рад blel d\n",
      "лудтый, нагрешное мажем.\n",
      "теперь уведусих никто все…\n",
      "эбишк ребюучный без чащношноя, а\n",
      "фраснул вечна извласнюсу;\n",
      "добулсынек\n",
      "рязоз поограз-кас, а бошка.\n",
      "идрай софф яя!..                                                                                                                                                                                                    \n",
      "\n"
     ]
    }
   ],
   "source": [
    "print(\"LSTM:\")\n",
    "for temp in [0.1, 0.2, 0.5, 1., 2.]:\n",
    "    print(f\"temperature: {temp}\")\n",
    "    print(generate_sample_lstm(char_lstm=best_char_lstm, seed_phrase=\"мой дядя \", max_length=512, temperature=temp) + \"\\n\")"
   ]
  },
  {
   "cell_type": "markdown",
   "metadata": {},
   "source": [
    "### References\n",
    "1. <a href='http://karpathy.github.io/2015/05/21/rnn-effectiveness/'> Andrew Karpathy blog post about RNN. </a> \n",
    "There are several examples of genration: Shakespeare texts, Latex formulas, Linux Sourse Code and children names.\n",
    "2. <a href='https://github.com/karpathy/char-rnn'> Repo with char-rnn code </a>\n",
    "3. Cool repo with PyTorch examples: [link](https://github.com/spro/practical-pytorch`)"
   ]
  }
 ],
 "metadata": {
  "anaconda-cloud": {},
  "kernelspec": {
   "display_name": "Python 3",
   "language": "python",
   "name": "python3"
  },
  "language_info": {
   "codemirror_mode": {
    "name": "ipython",
    "version": 3
   },
   "file_extension": ".py",
   "mimetype": "text/x-python",
   "name": "python",
   "nbconvert_exporter": "python",
   "pygments_lexer": "ipython3",
   "version": "3.8.10"
  }
 },
 "nbformat": 4,
 "nbformat_minor": 4
}
